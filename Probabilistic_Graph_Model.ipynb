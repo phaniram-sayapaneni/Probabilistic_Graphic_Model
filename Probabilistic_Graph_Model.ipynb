{
 "cells": [
  {
   "cell_type": "code",
   "execution_count": 31,
   "metadata": {},
   "outputs": [],
   "source": [
    "import pandas as pd\n",
    "import numpy as np\n",
    "import os.path"
   ]
  },
  {
   "cell_type": "code",
   "execution_count": 32,
   "metadata": {},
   "outputs": [],
   "source": [
    "df = pd.read_csv('/Users/phaniram/Downloads/AND_dataset/Dataset[WithFeatures]/AND_Features.csv')"
   ]
  },
  {
   "cell_type": "code",
   "execution_count": 33,
   "metadata": {},
   "outputs": [],
   "source": [
    "from random import randint\n",
    "#label \"0\" for same class \"1\" for different class\n",
    "def Label():\n",
    "    colms = ['fa1', 'fa2','fa3', 'fa4', 'fa5', 'fa6', 'fa7', 'fa8', 'fa9', 'fb1', 'fb2', 'fb3', 'fb4', 'fb5', 'fb6', 'fb7', 'fb8', 'fb9' ,'c']\n",
    "    sameLabels = pd.DataFrame(columns=colms)\n",
    "    diffLabels = pd.DataFrame(columns=colms)\n",
    "    rowNum = 0\n",
    "    for index, row in df.iterrows():\n",
    "        curImageId = row['ImageId'][:4]\n",
    "        sameWriter = df[df['ImageId'].str.contains(curImageId)]\n",
    "        diffWriter = df[~df['ImageId'].str.contains(curImageId)]\n",
    "        #print(len(diffWriter))\n",
    "        #print(sameWriter)\n",
    "    \n",
    "        for i in range(0, len(sameWriter)):\n",
    "            np_a = sameWriter.iloc[i].as_matrix()\n",
    "            np_sameLabel = np.concatenate((np_a[2:], np_a[2:]), axis =0)\n",
    "            np_sameLabel= np.append(np_sameLabel,0)\n",
    "            sameLabels.loc[rowNum] = np_sameLabel\n",
    "            randomIndex = randint(0, len(diffWriter)-1)\n",
    "            np_d = diffWriter.iloc[randomIndex].as_matrix()\n",
    "            np_diffLabel = np.concatenate((np_a[2:], np_d[2:]), axis =0)\n",
    "            np_diffLabel = np.append(np_diffLabel,1)\n",
    "            diffLabels.loc[rowNum] =  np_diffLabel\n",
    "            rowNum = rowNum+1\n",
    "            \n",
    "            for j in range(i+1, len(sameWriter)):\n",
    "                #print(np_a)\n",
    "                np_b = sameWriter.iloc[j].as_matrix()\n",
    "                #print(np_b)\n",
    "                #print(\"i\", i)\n",
    "                #print(\"j\", j)\n",
    "                np_sameLabel = np.concatenate((np_a[2:], np_b[2:]), axis =0)\n",
    "                np_sameLabel = np.append(np_sameLabel,0)\n",
    "                sameLabels.loc[rowNum] = np_sameLabel\n",
    "                randomIndex = randint(0, len(diffWriter)-1)\n",
    "                np_d = diffWriter.iloc[randomIndex].as_matrix()\n",
    "                np_diffLabel = np.concatenate((np_a[2:], np_d[2:]), axis =0)\n",
    "                np_diffLabel = np.append(np_diffLabel,1)\n",
    "                diffLabels.loc[rowNum] =  np_diffLabel\n",
    "                rowNum = rowNum+1\n",
    "                #break        \n",
    "        #print(sameLabels)\n",
    "        #print('diff labess')\n",
    "        #print(diffLabels)\n",
    "        #break\n",
    "    return sameLabels, diffLabels\n",
    "    \n",
    "        \n",
    "    "
   ]
  },
  {
   "cell_type": "code",
   "execution_count": 34,
   "metadata": {},
   "outputs": [],
   "source": [
    "sameLabels, diffLabels = Label()"
   ]
  },
  {
   "cell_type": "code",
   "execution_count": 35,
   "metadata": {},
   "outputs": [],
   "source": [
    "#patch for a bug in pgmpy library\n",
    "#sameLabels.fa9 = \n",
    "#sameLabels['fa9']= sameLabels['fa9']-1\n",
    "\n",
    "sameLabels['fb9'] = sameLabels['fb9']-1\n",
    "diffLabels['fa9'] = diffLabels['fa9']-1\n",
    "diffLabels['fb9'] = diffLabels['fb9']-1"
   ]
  },
  {
   "cell_type": "code",
   "execution_count": 36,
   "metadata": {},
   "outputs": [],
   "source": [
    "sameLabels = sameLabels.sample(frac=1).reset_index(drop=True)\n",
    "sameLabels = sameLabels.sample(frac=1).reset_index(drop=True)\n",
    "diffLabels = diffLabels.sample(frac=1).reset_index(drop=True)\n",
    "diffLabels = diffLabels.sample(frac=1).reset_index(drop=True)\n",
    "#this will shuffle the dataframe"
   ]
  },
  {
   "cell_type": "code",
   "execution_count": 37,
   "metadata": {},
   "outputs": [],
   "source": [
    "columns = ['Id','ImageId', 'fa1', 'fa2','fa3', 'fa4', 'fa5', 'fa6', 'fa7', 'fa8', 'fa9', 'fb1', 'fb2', 'fb3', 'fb4', 'fb5', 'fb6', 'fb7', 'fb8', 'fb9']"
   ]
  },
  {
   "cell_type": "code",
   "execution_count": 38,
   "metadata": {},
   "outputs": [],
   "source": [
    "\n",
    "trainSameLabels = sameLabels[:int(len(sameLabels)*0.7)] \n",
    "#while(trainSameLabels['fa9'].max() != 1 or trainSameLabels['fb9'].max() != 1 or trainSameLabels['fa9'].min() != 0 or trainSameLabels['fb9'].min() != 0):\n",
    "    #sameLabels = sameLabels.sample(frac=1).reset_index(drop=True)\n",
    "    #trainSameLabels = sameLabels[:int(len(sameLabels)*0.7)]\n",
    "\n",
    "#trainSameLabels = sameLabels"
   ]
  },
  {
   "cell_type": "code",
   "execution_count": 39,
   "metadata": {},
   "outputs": [],
   "source": [
    "trainDiffLabels = diffLabels[:int(len(diffLabels)*0.7)]\n",
    "#while(trainDiffLabels['fa9'].max() != 1 or trainDiffLabels['fb9'].max() != 1):\n",
    "    #diffLabels = diffLabels.sample(frac=1).reset_index(drop=True)\n",
    "    #trainDiffLabels = diffLabels[:int(len(sameLabels)*0.7)]\n",
    "#trainDiffLabels = diffLabels"
   ]
  },
  {
   "cell_type": "code",
   "execution_count": 40,
   "metadata": {},
   "outputs": [],
   "source": [
    "testSameLabels = sameLabels[int(len(sameLabels)*0.7):]\n",
    "#testSameLabels = sameLabels[int(len(sameLabels)*1.0):]"
   ]
  },
  {
   "cell_type": "code",
   "execution_count": 41,
   "metadata": {},
   "outputs": [],
   "source": [
    "#trainDiffLabels = diffLabels[:int(len(diffLabels)*0.7)]"
   ]
  },
  {
   "cell_type": "code",
   "execution_count": 42,
   "metadata": {},
   "outputs": [],
   "source": [
    "testDiffLabels = diffLabels[int(len(diffLabels)*0.7) :]\n",
    "#testDiffLabels = diffLabels[int(len(diffLabels)*1.0) :]"
   ]
  },
  {
   "cell_type": "code",
   "execution_count": 43,
   "metadata": {},
   "outputs": [],
   "source": [
    "#type(trainSameLabels)\n",
    "colms = ['fa1', 'fa2','fa3', 'fa4', 'fa5', 'fa6', 'fa7', 'fa8', 'fa9', 'fb1', 'fb2', 'fb3', 'fb4', 'fb5', 'fb6', 'fb7', 'fb8', 'fb9', 'c']\n",
    "train_data=pd.DataFrame(columns=colms)\n",
    "train_data= train_data.append([trainSameLabels, trainDiffLabels])"
   ]
  },
  {
   "cell_type": "code",
   "execution_count": 44,
   "metadata": {},
   "outputs": [],
   "source": [
    "## now training is remaining"
   ]
  },
  {
   "cell_type": "code",
   "execution_count": 45,
   "metadata": {},
   "outputs": [],
   "source": [
    "from pgmpy.models import BayesianModel\n",
    "model1 = BayesianModel([('fa1', 'fb1'),('fa2', 'fb2'),('fa3', 'fb3'),('fa4', 'fb4'),('fa5', 'fb5'),('fa6', 'fb6'),('fa7', 'fb7'),('fa8', 'fb8'),('fa9', 'fb9')\n",
    "                        ,('c', 'fa1'), ('c', 'fb1'),('c', 'fa2'),('c', 'fb2'),('c', 'fa3'),('c', 'fb3'),('c', 'fa4'),('c', 'fb4'),('c', 'fa5'),('c', 'fb5'),('c', 'fa6'),('c', 'fb6'),('c', 'fa7'),('c', 'fb7'),('c', 'fa8'),('c', 'fb8'),('c', 'fa9'),('c', 'fb9')])"
   ]
  },
  {
   "cell_type": "code",
   "execution_count": 46,
   "metadata": {},
   "outputs": [],
   "source": [
    "model1.fit(train_data)"
   ]
  },
  {
   "cell_type": "code",
   "execution_count": 47,
   "metadata": {},
   "outputs": [
    {
     "data": {
      "text/plain": [
       "[<TabularCPD representing P(c:2) at 0x10c8da2b0>,\n",
       " <TabularCPD representing P(fa1:4 | c:2) at 0x10d074748>,\n",
       " <TabularCPD representing P(fa2:5 | c:2) at 0x10d13cba8>,\n",
       " <TabularCPD representing P(fa3:3 | c:2) at 0x1a14f2b898>,\n",
       " <TabularCPD representing P(fa4:5 | c:2) at 0x10c8cf710>,\n",
       " <TabularCPD representing P(fa5:4 | c:2) at 0x10d08c630>,\n",
       " <TabularCPD representing P(fa6:4 | c:2) at 0x10d08cc88>,\n",
       " <TabularCPD representing P(fa7:4 | c:2) at 0x10d08ccc0>,\n",
       " <TabularCPD representing P(fa8:5 | c:2) at 0x10c8c6978>,\n",
       " <TabularCPD representing P(fa9:3 | c:2) at 0x10c8c6390>,\n",
       " <TabularCPD representing P(fb1:4 | c:2, fa1:4) at 0x10d4be438>,\n",
       " <TabularCPD representing P(fb2:5 | c:2, fa2:5) at 0x10d13cc18>,\n",
       " <TabularCPD representing P(fb3:3 | c:2, fa3:3) at 0x1a14f2b940>,\n",
       " <TabularCPD representing P(fb4:5 | c:2, fa4:5) at 0x10d0898d0>,\n",
       " <TabularCPD representing P(fb5:4 | c:2, fa5:4) at 0x1a14f47a58>,\n",
       " <TabularCPD representing P(fb6:4 | c:2, fa6:4) at 0x10d089860>,\n",
       " <TabularCPD representing P(fb7:4 | c:2, fa7:4) at 0x10cf433c8>,\n",
       " <TabularCPD representing P(fb8:5 | c:2, fa8:5) at 0x10d089ef0>,\n",
       " <TabularCPD representing P(fb9:2 | c:2, fa9:3) at 0x10cf439e8>]"
      ]
     },
     "execution_count": 47,
     "metadata": {},
     "output_type": "execute_result"
    }
   ],
   "source": [
    "model1.get_cpds()"
   ]
  },
  {
   "cell_type": "code",
   "execution_count": 48,
   "metadata": {},
   "outputs": [
    {
     "data": {
      "text/plain": [
       "True"
      ]
     },
     "execution_count": 48,
     "metadata": {},
     "output_type": "execute_result"
    }
   ],
   "source": [
    "#model1.predict(testSameLabels)\n",
    "model1.check_model()"
   ]
  },
  {
   "cell_type": "code",
   "execution_count": 49,
   "metadata": {},
   "outputs": [
    {
     "name": "stdout",
     "output_type": "stream",
     "text": [
      "+------+-----+\n",
      "| c(0) | 0.5 |\n",
      "+------+-----+\n",
      "| c(1) | 0.5 |\n",
      "+------+-----+\n"
     ]
    }
   ],
   "source": [
    "print(model1.get_cpds('c'))"
   ]
  },
  {
   "cell_type": "code",
   "execution_count": 50,
   "metadata": {},
   "outputs": [
    {
     "data": {
      "text/plain": [
       "(fa1 _|_ fb4, fa9, fa7, fa8, fa2, fa5, fb8, fa3, fb6, fb7, fb3, fb5, fa4, fb2, fb9, fa6 | c)"
      ]
     },
     "execution_count": 50,
     "metadata": {},
     "output_type": "execute_result"
    }
   ],
   "source": [
    "model1.local_independencies('fa1')"
   ]
  },
  {
   "cell_type": "code",
   "execution_count": 51,
   "metadata": {},
   "outputs": [],
   "source": [
    "from pgmpy.inference import VariableElimination"
   ]
  },
  {
   "cell_type": "code",
   "execution_count": 52,
   "metadata": {},
   "outputs": [],
   "source": [
    "#model2 = BayesianModel([('fa1'-'fb1', 'fa2'-'fb2')])\n",
    "infer = VariableElimination(model1)"
   ]
  },
  {
   "cell_type": "code",
   "execution_count": 53,
   "metadata": {},
   "outputs": [
    {
     "name": "stdout",
     "output_type": "stream",
     "text": [
      "64.57337883959045\n"
     ]
    },
    {
     "name": "stderr",
     "output_type": "stream",
     "text": [
      "/Users/phaniram/anaconda/lib/python3.6/site-packages/pgmpy-0.1.6-py3.6.egg/pgmpy/factors/discrete/DiscreteFactor.py:377: RuntimeWarning: invalid value encountered in true_divide\n",
      "  phi.values = phi.values / phi.values.sum()\n"
     ]
    },
    {
     "name": "stdout",
     "output_type": "stream",
     "text": [
      "87.57679180887372\n"
     ]
    }
   ],
   "source": [
    "#actual testing starts here\n",
    "import json as json\n",
    "truPredSameLabels = 0\n",
    "truPredDiffLabels = 0\n",
    "    \n",
    "\n",
    "for i in range(0, len(testSameLabels)):\n",
    "    testCase = testSameLabels.iloc[i]\n",
    "    actual_class = testCase['c']\n",
    "    del testCase['c']\n",
    "    evd = json.loads(testCase.to_json())\n",
    "    predicted_class = (infer.map_query(['c'], evidence= evd)['c'])\n",
    "    if(actual_class == predicted_class):\n",
    "        truPredSameLabels = truPredSameLabels+1\n",
    "\n",
    "print((truPredSameLabels * 100)/len(testSameLabels))\n",
    "\n",
    "\n",
    "for i in range(0, len(testDiffLabels)):\n",
    "    testCase = testDiffLabels.iloc[i]\n",
    "    actual_class = testCase['c']\n",
    "    del testCase['c']\n",
    "    evd = json.loads(testCase.to_json())\n",
    "    predicted_class = (infer.map_query(['c'], evidence= evd)['c'])\n",
    "    if(actual_class == predicted_class):\n",
    "        truPredDiffLabels = truPredDiffLabels+1\n",
    "\n",
    "\n",
    "print((truPredDiffLabels * 100)/len(testDiffLabels))"
   ]
  },
  {
   "cell_type": "code",
   "execution_count": null,
   "metadata": {},
   "outputs": [],
   "source": []
  }
 ],
 "metadata": {
  "kernelspec": {
   "display_name": "Python 3",
   "language": "python",
   "name": "python3"
  },
  "language_info": {
   "codemirror_mode": {
    "name": "ipython",
    "version": 3
   },
   "file_extension": ".py",
   "mimetype": "text/x-python",
   "name": "python",
   "nbconvert_exporter": "python",
   "pygments_lexer": "ipython3",
   "version": "3.6.4"
  }
 },
 "nbformat": 4,
 "nbformat_minor": 2
}
